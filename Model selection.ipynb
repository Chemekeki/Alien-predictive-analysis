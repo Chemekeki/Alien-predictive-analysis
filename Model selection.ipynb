{
 "cells": [
  {
   "cell_type": "code",
   "execution_count": null,
   "metadata": {},
   "outputs": [],
   "source": [
    "## Train, Test Split\n",
    "X_train, X_test, y_train, y_test = train_test_split(X_data, train_df_y, test_size=0.20, random_state=42)"
   ]
  },
  {
   "cell_type": "code",
   "execution_count": null,
   "metadata": {},
   "outputs": [],
   "source": [
    "## Feature selection\n",
    "from sklearn.feature_selection import SelectKBest, f_regression\n",
    "\n",
    "def select_features(X_train, y_train, X_test, k=65):\n",
    "    fs = SelectKBest(score_func=f_regression, k=k)\n",
    "    fs.fit(X_train, y_train)\n",
    "    X_train_fs = fs.transform(X_train)\n",
    "    X_test_fs = fs.transform(X_test)\n",
    "    return X_train_fs, X_test_fs, fs\n",
    "\n",
    "X_train_fs, X_test_fs, fs = select_features(X_train, y_train, X_test)"
   ]
  },
  {
   "cell_type": "code",
   "execution_count": null,
   "metadata": {},
   "outputs": [],
   "source": [
    "#check for the most significant K variables\n",
    "valid_columns = fs.get_support(indices=True)\n",
    "valid_columns"
   ]
  },
  {
   "cell_type": "code",
   "execution_count": null,
   "metadata": {},
   "outputs": [],
   "source": [
    "select_features(X_train , y_train, X_test)"
   ]
  },
  {
   "cell_type": "code",
   "execution_count": null,
   "metadata": {},
   "outputs": [],
   "source": [
    "def print_metrics(y_test_v, y_pred_v, name):\n",
    "    print(f\"Model : {name}\")\n",
    "    print(f\"MSE   : {mean_squared_error(y_test_v, y_pred_v)}\")\n",
    "    print(f\"R2    : {r2_score(y_test_v, y_pred_v)}\") ## 1 is perfect"
   ]
  },
  {
   "cell_type": "code",
   "execution_count": null,
   "metadata": {},
   "outputs": [],
   "source": [
    "#we search for the model with the highest R squared for analysis"
   ]
  },
  {
   "cell_type": "code",
   "execution_count": null,
   "metadata": {},
   "outputs": [],
   "source": [
    "## Linear Regression\n",
    "model = LinearRegression()\n",
    "model.fit(X_train_fs, y_train)\n",
    "\n",
    "y_pred_lr = model.predict(X_test_fs)\n",
    "\n",
    "print_metrics(y_test, y_pred_lr, \"Linear Regression\")\n",
    "\n",
    "\n",
    "\n"
   ]
  },
  {
   "cell_type": "code",
   "execution_count": null,
   "metadata": {},
   "outputs": [],
   "source": [
    "## Random Forest\n",
    "model_rf = RandomForestRegressor(n_estimators=5)\n",
    "model_rf.fit(X_train_fs, y_train)\n",
    "\n",
    "y_pred_rf = model_rf.predict(X_test_fs)\n",
    "\n",
    "print_metrics(y_test, y_pred_rf, \"Random Forest\")\n"
   ]
  },
  {
   "cell_type": "code",
   "execution_count": null,
   "metadata": {},
   "outputs": [],
   "source": [
    "## XGBOOST\n",
    "model_xg = xgboost.XGBRegressor()\n",
    "model_xg.fit(X_train_fs, y_train)\n",
    "\n",
    "y_pred_xg = model_xg.predict(X_test_fs)\n",
    "\n",
    "print_metrics(y_test, y_pred_xg, \"XG Boost\")\n"
   ]
  },
  {
   "cell_type": "code",
   "execution_count": null,
   "metadata": {},
   "outputs": [],
   "source": [
    "#We will use XGBOOST since it has the highest R2"
   ]
  }
 ],
 "metadata": {
  "kernelspec": {
   "display_name": "Python 3",
   "language": "python",
   "name": "python3"
  },
  "language_info": {
   "codemirror_mode": {
    "name": "ipython",
    "version": 3
   },
   "file_extension": ".py",
   "mimetype": "text/x-python",
   "name": "python",
   "nbconvert_exporter": "python",
   "pygments_lexer": "ipython3",
   "version": "3.7.6"
  }
 },
 "nbformat": 4,
 "nbformat_minor": 4
}
